{
 "cells": [
  {
   "cell_type": "markdown",
   "id": "7cab4c93",
   "metadata": {},
   "source": [
    "Problem Statement: Prepare a model for the HR department to predict the Attrition and give the insights from the data about the important factors associated with the attrition so that HR can take the corrective or \n",
    "previntive measures to stop or control the attrition.\n",
    "\n",
    "Attrition Def: Attrition is a term used to describe the gradual and natural reduction in the size of a workforce or customer base over time, typically due to voluntary or involuntary departures, such as resignations,  retirements, terminations, or death. It is often used in the context of human resources or customer management, and can have both positive and negative effects on an organization.\n",
    "\n",
    "In a positive sense, attrition can help an organization to remove low-performing employees, create room for new talent, and save on costs associated with redundant positions. In a negative sense, however, attrition can result in the loss of experienced and valuable employees or customers, and can increase recruitment and training costs.\n",
    "\n",
    "Attrition is often measured using metrics such as employee turnover rate or customer churn rate, and organizations may develop strategies to minimize attrition and retain their workforce or customer base.\n",
    "\n",
    "  Attrition Rate = No. of employees left the workforce/Avg.no. of employess\n",
    "\n"
   ]
  },
  {
   "cell_type": "markdown",
   "id": "dd4269c5",
   "metadata": {},
   "source": [
    "1.Historical Data: (HR_Employee_Attrition_Data.csv) provided by LEARNBAY.\n",
    "\n",
    "-The dataset contains Employee demographic information(age, gender, occupation, tenure etc).\n",
    "-Reasons for leaving or discontinuing use (e.g. better job opportunity,  dissatisfaction, retirement, etc)\n",
    "-Tenure, years at the current role etc.\n",
    "-Employee saalry and other perks.\n",
    "-Performance metrics (performance rating/satisfaction, job satisfaction).\n",
    "\n",
    "2.How to use the information provided in the dataset?\n",
    "\n",
    "-Identifying the key features to find the reasons and drwaing insights to   undestand the reason for employee turnover by  expolring and analysing the features and patterns.\n",
    "\n",
    "3.How your analysis and insghts drawn help HR department?\n",
    "-Targeted interventions to address the specific issues that are driving employees away.\n",
    "-To improve the onboarding process and ensure that new employees feel supported and engaged from day one.\n",
    "-Implement interventions to improve employee satisfaction and engagement.\n",
    "-To provide benifits, oppurtunities for career growth by creating positive  work culture.\n"
   ]
  },
  {
   "cell_type": "markdown",
   "id": "fd66ec17",
   "metadata": {},
   "source": [
    "Attrition data analysis(EDA) icludes\n",
    "-Understanding the data.\n",
    "-Pre-processing the data.\n",
    "-Exploring the data.\n",
    "-Transform the data.\n",
    "-Data Modeling.\n",
    "-Data Visualization.\n",
    "-Data Communication."
   ]
  },
  {
   "cell_type": "code",
   "execution_count": null,
   "id": "b97f5792",
   "metadata": {},
   "outputs": [],
   "source": []
  },
  {
   "cell_type": "markdown",
   "id": "0803707b",
   "metadata": {},
   "source": [
    "# Exploratory data analysis(Attrition Dataset)"
   ]
  },
  {
   "cell_type": "markdown",
   "id": "af508187",
   "metadata": {},
   "source": [
    "Import all the modules and the libraries required"
   ]
  },
  {
   "cell_type": "code",
   "execution_count": 1,
   "id": "bd349ea5",
   "metadata": {},
   "outputs": [],
   "source": [
    "import numpy as np\n",
    "import pandas as pd\n",
    "import numpy as np\n",
    "import pandas as pd\n",
    "import matplotlib.pyplot as plt\n",
    "import seaborn as sns\n",
    "from sklearn import preprocessing\n",
    "from sklearn.model_selection import train_test_split\n",
    "from sklearn.tree import DecisionTreeClassifier\n",
    "from sklearn.model_selection import GridSearchCV\n",
    "from sklearn.metrics import confusion_matrix\n",
    "from sklearn.metrics import accuracy_score\n",
    "from sklearn.metrics import roc_curve, auc\n",
    "import matplotlib.pyplot as plt\n",
    "# from sklearn.externals.six import StringIO \n",
    "from six import StringIO\n",
    "from IPython.display import Image  \n",
    "from sklearn.tree import export_graphviz\n",
    "import warnings\n",
    "warnings.filterwarnings('ignore')\n",
    "from sklearn.metrics import confusion_matrix,classification_report,plot_confusion_matrix\n",
    "import pydotplus\n",
    "import plotly.offline as pyoff\n",
    "import plotly.express as px\n",
    "from sklearn.tree import DecisionTreeClassifier\n",
    "from sklearn.model_selection import GridSearchCV\n",
    "from sklearn.preprocessing import LabelEncoder, OneHotEncoder\n",
    "from sklearn.compose import ColumnTransformer"
   ]
  },
  {
   "cell_type": "code",
   "execution_count": 2,
   "id": "d2348f00",
   "metadata": {},
   "outputs": [],
   "source": [
    "#import the dataset\n",
    "df = pd.read_csv('cleaned_dataset_Attrition_imp_features.csv')"
   ]
  },
  {
   "cell_type": "code",
   "execution_count": 3,
   "id": "e7a34fee",
   "metadata": {},
   "outputs": [
    {
     "data": {
      "text/html": [
       "<div>\n",
       "<style scoped>\n",
       "    .dataframe tbody tr th:only-of-type {\n",
       "        vertical-align: middle;\n",
       "    }\n",
       "\n",
       "    .dataframe tbody tr th {\n",
       "        vertical-align: top;\n",
       "    }\n",
       "\n",
       "    .dataframe thead th {\n",
       "        text-align: right;\n",
       "    }\n",
       "</style>\n",
       "<table border=\"1\" class=\"dataframe\">\n",
       "  <thead>\n",
       "    <tr style=\"text-align: right;\">\n",
       "      <th></th>\n",
       "      <th>Attrition</th>\n",
       "      <th>Age</th>\n",
       "      <th>BusinessTravel</th>\n",
       "      <th>EnvironmentSatisfaction</th>\n",
       "      <th>JobInvolvement</th>\n",
       "      <th>JobLevel</th>\n",
       "      <th>JobRole</th>\n",
       "      <th>JobSatisfaction</th>\n",
       "      <th>MaritalStatus</th>\n",
       "      <th>MonthlyIncome</th>\n",
       "      <th>OverTime</th>\n",
       "      <th>StockOptionLevel</th>\n",
       "      <th>TotalWorkingYears</th>\n",
       "      <th>WorkLifeBalance</th>\n",
       "      <th>YearsAtCompany</th>\n",
       "      <th>YearsInCurrentRole</th>\n",
       "      <th>YearsWithCurrManager</th>\n",
       "    </tr>\n",
       "  </thead>\n",
       "  <tbody>\n",
       "    <tr>\n",
       "      <th>0</th>\n",
       "      <td>Yes</td>\n",
       "      <td>41</td>\n",
       "      <td>Travel_Rarely</td>\n",
       "      <td>2</td>\n",
       "      <td>3</td>\n",
       "      <td>2</td>\n",
       "      <td>Sales Executive</td>\n",
       "      <td>4</td>\n",
       "      <td>Single</td>\n",
       "      <td>5993</td>\n",
       "      <td>Yes</td>\n",
       "      <td>0</td>\n",
       "      <td>8</td>\n",
       "      <td>1</td>\n",
       "      <td>6</td>\n",
       "      <td>4</td>\n",
       "      <td>5</td>\n",
       "    </tr>\n",
       "    <tr>\n",
       "      <th>1</th>\n",
       "      <td>No</td>\n",
       "      <td>49</td>\n",
       "      <td>Travel_Frequently</td>\n",
       "      <td>3</td>\n",
       "      <td>2</td>\n",
       "      <td>2</td>\n",
       "      <td>Research Scientist</td>\n",
       "      <td>2</td>\n",
       "      <td>Married</td>\n",
       "      <td>5130</td>\n",
       "      <td>No</td>\n",
       "      <td>1</td>\n",
       "      <td>10</td>\n",
       "      <td>3</td>\n",
       "      <td>10</td>\n",
       "      <td>7</td>\n",
       "      <td>7</td>\n",
       "    </tr>\n",
       "    <tr>\n",
       "      <th>2</th>\n",
       "      <td>Yes</td>\n",
       "      <td>37</td>\n",
       "      <td>Travel_Rarely</td>\n",
       "      <td>4</td>\n",
       "      <td>2</td>\n",
       "      <td>1</td>\n",
       "      <td>Laboratory Technician</td>\n",
       "      <td>3</td>\n",
       "      <td>Single</td>\n",
       "      <td>2090</td>\n",
       "      <td>Yes</td>\n",
       "      <td>0</td>\n",
       "      <td>7</td>\n",
       "      <td>3</td>\n",
       "      <td>0</td>\n",
       "      <td>0</td>\n",
       "      <td>0</td>\n",
       "    </tr>\n",
       "    <tr>\n",
       "      <th>3</th>\n",
       "      <td>No</td>\n",
       "      <td>33</td>\n",
       "      <td>Travel_Frequently</td>\n",
       "      <td>4</td>\n",
       "      <td>3</td>\n",
       "      <td>1</td>\n",
       "      <td>Research Scientist</td>\n",
       "      <td>3</td>\n",
       "      <td>Married</td>\n",
       "      <td>2909</td>\n",
       "      <td>Yes</td>\n",
       "      <td>0</td>\n",
       "      <td>8</td>\n",
       "      <td>3</td>\n",
       "      <td>8</td>\n",
       "      <td>7</td>\n",
       "      <td>0</td>\n",
       "    </tr>\n",
       "    <tr>\n",
       "      <th>4</th>\n",
       "      <td>No</td>\n",
       "      <td>27</td>\n",
       "      <td>Travel_Rarely</td>\n",
       "      <td>1</td>\n",
       "      <td>3</td>\n",
       "      <td>1</td>\n",
       "      <td>Laboratory Technician</td>\n",
       "      <td>2</td>\n",
       "      <td>Married</td>\n",
       "      <td>3468</td>\n",
       "      <td>No</td>\n",
       "      <td>1</td>\n",
       "      <td>6</td>\n",
       "      <td>3</td>\n",
       "      <td>2</td>\n",
       "      <td>2</td>\n",
       "      <td>2</td>\n",
       "    </tr>\n",
       "    <tr>\n",
       "      <th>5</th>\n",
       "      <td>No</td>\n",
       "      <td>32</td>\n",
       "      <td>Travel_Frequently</td>\n",
       "      <td>4</td>\n",
       "      <td>3</td>\n",
       "      <td>1</td>\n",
       "      <td>Laboratory Technician</td>\n",
       "      <td>4</td>\n",
       "      <td>Single</td>\n",
       "      <td>3068</td>\n",
       "      <td>No</td>\n",
       "      <td>0</td>\n",
       "      <td>8</td>\n",
       "      <td>2</td>\n",
       "      <td>7</td>\n",
       "      <td>7</td>\n",
       "      <td>6</td>\n",
       "    </tr>\n",
       "    <tr>\n",
       "      <th>6</th>\n",
       "      <td>No</td>\n",
       "      <td>59</td>\n",
       "      <td>Travel_Rarely</td>\n",
       "      <td>3</td>\n",
       "      <td>4</td>\n",
       "      <td>1</td>\n",
       "      <td>Laboratory Technician</td>\n",
       "      <td>1</td>\n",
       "      <td>Married</td>\n",
       "      <td>2670</td>\n",
       "      <td>Yes</td>\n",
       "      <td>3</td>\n",
       "      <td>12</td>\n",
       "      <td>2</td>\n",
       "      <td>1</td>\n",
       "      <td>0</td>\n",
       "      <td>0</td>\n",
       "    </tr>\n",
       "    <tr>\n",
       "      <th>7</th>\n",
       "      <td>No</td>\n",
       "      <td>30</td>\n",
       "      <td>Travel_Rarely</td>\n",
       "      <td>4</td>\n",
       "      <td>3</td>\n",
       "      <td>1</td>\n",
       "      <td>Laboratory Technician</td>\n",
       "      <td>3</td>\n",
       "      <td>Divorced</td>\n",
       "      <td>2693</td>\n",
       "      <td>No</td>\n",
       "      <td>1</td>\n",
       "      <td>1</td>\n",
       "      <td>3</td>\n",
       "      <td>1</td>\n",
       "      <td>0</td>\n",
       "      <td>0</td>\n",
       "    </tr>\n",
       "    <tr>\n",
       "      <th>8</th>\n",
       "      <td>No</td>\n",
       "      <td>38</td>\n",
       "      <td>Travel_Frequently</td>\n",
       "      <td>4</td>\n",
       "      <td>2</td>\n",
       "      <td>3</td>\n",
       "      <td>Manufacturing Director</td>\n",
       "      <td>3</td>\n",
       "      <td>Single</td>\n",
       "      <td>9526</td>\n",
       "      <td>No</td>\n",
       "      <td>0</td>\n",
       "      <td>10</td>\n",
       "      <td>3</td>\n",
       "      <td>9</td>\n",
       "      <td>7</td>\n",
       "      <td>8</td>\n",
       "    </tr>\n",
       "    <tr>\n",
       "      <th>9</th>\n",
       "      <td>No</td>\n",
       "      <td>36</td>\n",
       "      <td>Travel_Rarely</td>\n",
       "      <td>3</td>\n",
       "      <td>3</td>\n",
       "      <td>2</td>\n",
       "      <td>Healthcare Representative</td>\n",
       "      <td>3</td>\n",
       "      <td>Married</td>\n",
       "      <td>5237</td>\n",
       "      <td>No</td>\n",
       "      <td>2</td>\n",
       "      <td>17</td>\n",
       "      <td>2</td>\n",
       "      <td>7</td>\n",
       "      <td>7</td>\n",
       "      <td>7</td>\n",
       "    </tr>\n",
       "  </tbody>\n",
       "</table>\n",
       "</div>"
      ],
      "text/plain": [
       "  Attrition  Age     BusinessTravel  EnvironmentSatisfaction  JobInvolvement  \\\n",
       "0       Yes   41      Travel_Rarely                        2               3   \n",
       "1        No   49  Travel_Frequently                        3               2   \n",
       "2       Yes   37      Travel_Rarely                        4               2   \n",
       "3        No   33  Travel_Frequently                        4               3   \n",
       "4        No   27      Travel_Rarely                        1               3   \n",
       "5        No   32  Travel_Frequently                        4               3   \n",
       "6        No   59      Travel_Rarely                        3               4   \n",
       "7        No   30      Travel_Rarely                        4               3   \n",
       "8        No   38  Travel_Frequently                        4               2   \n",
       "9        No   36      Travel_Rarely                        3               3   \n",
       "\n",
       "   JobLevel                    JobRole  JobSatisfaction MaritalStatus  \\\n",
       "0         2            Sales Executive                4        Single   \n",
       "1         2         Research Scientist                2       Married   \n",
       "2         1      Laboratory Technician                3        Single   \n",
       "3         1         Research Scientist                3       Married   \n",
       "4         1      Laboratory Technician                2       Married   \n",
       "5         1      Laboratory Technician                4        Single   \n",
       "6         1      Laboratory Technician                1       Married   \n",
       "7         1      Laboratory Technician                3      Divorced   \n",
       "8         3     Manufacturing Director                3        Single   \n",
       "9         2  Healthcare Representative                3       Married   \n",
       "\n",
       "   MonthlyIncome OverTime  StockOptionLevel  TotalWorkingYears  \\\n",
       "0           5993      Yes                 0                  8   \n",
       "1           5130       No                 1                 10   \n",
       "2           2090      Yes                 0                  7   \n",
       "3           2909      Yes                 0                  8   \n",
       "4           3468       No                 1                  6   \n",
       "5           3068       No                 0                  8   \n",
       "6           2670      Yes                 3                 12   \n",
       "7           2693       No                 1                  1   \n",
       "8           9526       No                 0                 10   \n",
       "9           5237       No                 2                 17   \n",
       "\n",
       "   WorkLifeBalance  YearsAtCompany  YearsInCurrentRole  YearsWithCurrManager  \n",
       "0                1               6                   4                     5  \n",
       "1                3              10                   7                     7  \n",
       "2                3               0                   0                     0  \n",
       "3                3               8                   7                     0  \n",
       "4                3               2                   2                     2  \n",
       "5                2               7                   7                     6  \n",
       "6                2               1                   0                     0  \n",
       "7                3               1                   0                     0  \n",
       "8                3               9                   7                     8  \n",
       "9                2               7                   7                     7  "
      ]
     },
     "execution_count": 3,
     "metadata": {},
     "output_type": "execute_result"
    }
   ],
   "source": [
    "df.head(10)"
   ]
  },
  {
   "cell_type": "code",
   "execution_count": 4,
   "id": "273231ea",
   "metadata": {},
   "outputs": [
    {
     "data": {
      "text/plain": [
       "(1470, 17)"
      ]
     },
     "execution_count": 4,
     "metadata": {},
     "output_type": "execute_result"
    }
   ],
   "source": [
    "df.shape"
   ]
  },
  {
   "cell_type": "code",
   "execution_count": 5,
   "id": "760669d0",
   "metadata": {},
   "outputs": [
    {
     "name": "stdout",
     "output_type": "stream",
     "text": [
      "<class 'pandas.core.frame.DataFrame'>\n",
      "RangeIndex: 1470 entries, 0 to 1469\n",
      "Data columns (total 17 columns):\n",
      " #   Column                   Non-Null Count  Dtype \n",
      "---  ------                   --------------  ----- \n",
      " 0   Attrition                1470 non-null   object\n",
      " 1   Age                      1470 non-null   int64 \n",
      " 2   BusinessTravel           1470 non-null   object\n",
      " 3   EnvironmentSatisfaction  1470 non-null   int64 \n",
      " 4   JobInvolvement           1470 non-null   int64 \n",
      " 5   JobLevel                 1470 non-null   int64 \n",
      " 6   JobRole                  1470 non-null   object\n",
      " 7   JobSatisfaction          1470 non-null   int64 \n",
      " 8   MaritalStatus            1470 non-null   object\n",
      " 9   MonthlyIncome            1470 non-null   int64 \n",
      " 10  OverTime                 1470 non-null   object\n",
      " 11  StockOptionLevel         1470 non-null   int64 \n",
      " 12  TotalWorkingYears        1470 non-null   int64 \n",
      " 13  WorkLifeBalance          1470 non-null   int64 \n",
      " 14  YearsAtCompany           1470 non-null   int64 \n",
      " 15  YearsInCurrentRole       1470 non-null   int64 \n",
      " 16  YearsWithCurrManager     1470 non-null   int64 \n",
      "dtypes: int64(12), object(5)\n",
      "memory usage: 195.4+ KB\n"
     ]
    }
   ],
   "source": [
    "df.info() #to check null data"
   ]
  },
  {
   "cell_type": "code",
   "execution_count": 6,
   "id": "33f561cb",
   "metadata": {},
   "outputs": [
    {
     "data": {
      "text/plain": [
       "False"
      ]
     },
     "execution_count": 6,
     "metadata": {},
     "output_type": "execute_result"
    }
   ],
   "source": [
    "df.isnull().values.any() #Checking if any missing values present"
   ]
  },
  {
   "cell_type": "code",
   "execution_count": 7,
   "id": "eb74cee8",
   "metadata": {},
   "outputs": [],
   "source": [
    "# del df['Unnamed: 10']"
   ]
  },
  {
   "cell_type": "code",
   "execution_count": 8,
   "id": "5a804a82",
   "metadata": {},
   "outputs": [
    {
     "data": {
      "text/plain": [
       "0"
      ]
     },
     "execution_count": 8,
     "metadata": {},
     "output_type": "execute_result"
    }
   ],
   "source": [
    "df.isnull().values.sum()"
   ]
  },
  {
   "cell_type": "code",
   "execution_count": 9,
   "id": "8c4c9275",
   "metadata": {},
   "outputs": [
    {
     "data": {
      "text/html": [
       "<div>\n",
       "<style scoped>\n",
       "    .dataframe tbody tr th:only-of-type {\n",
       "        vertical-align: middle;\n",
       "    }\n",
       "\n",
       "    .dataframe tbody tr th {\n",
       "        vertical-align: top;\n",
       "    }\n",
       "\n",
       "    .dataframe thead th {\n",
       "        text-align: right;\n",
       "    }\n",
       "</style>\n",
       "<table border=\"1\" class=\"dataframe\">\n",
       "  <thead>\n",
       "    <tr style=\"text-align: right;\">\n",
       "      <th></th>\n",
       "      <th>Age</th>\n",
       "      <th>EnvironmentSatisfaction</th>\n",
       "      <th>JobInvolvement</th>\n",
       "      <th>JobLevel</th>\n",
       "      <th>JobSatisfaction</th>\n",
       "      <th>MonthlyIncome</th>\n",
       "      <th>StockOptionLevel</th>\n",
       "      <th>TotalWorkingYears</th>\n",
       "      <th>WorkLifeBalance</th>\n",
       "      <th>YearsAtCompany</th>\n",
       "      <th>YearsInCurrentRole</th>\n",
       "      <th>YearsWithCurrManager</th>\n",
       "    </tr>\n",
       "  </thead>\n",
       "  <tbody>\n",
       "    <tr>\n",
       "      <th>count</th>\n",
       "      <td>1470.000000</td>\n",
       "      <td>1470.000000</td>\n",
       "      <td>1470.000000</td>\n",
       "      <td>1470.000000</td>\n",
       "      <td>1470.000000</td>\n",
       "      <td>1470.000000</td>\n",
       "      <td>1470.000000</td>\n",
       "      <td>1470.000000</td>\n",
       "      <td>1470.000000</td>\n",
       "      <td>1470.000000</td>\n",
       "      <td>1470.000000</td>\n",
       "      <td>1470.000000</td>\n",
       "    </tr>\n",
       "    <tr>\n",
       "      <th>mean</th>\n",
       "      <td>36.923810</td>\n",
       "      <td>2.721769</td>\n",
       "      <td>2.729932</td>\n",
       "      <td>2.063946</td>\n",
       "      <td>2.728571</td>\n",
       "      <td>6502.931293</td>\n",
       "      <td>0.793878</td>\n",
       "      <td>11.279592</td>\n",
       "      <td>2.761224</td>\n",
       "      <td>7.008163</td>\n",
       "      <td>4.229252</td>\n",
       "      <td>4.123129</td>\n",
       "    </tr>\n",
       "    <tr>\n",
       "      <th>std</th>\n",
       "      <td>9.135373</td>\n",
       "      <td>1.093082</td>\n",
       "      <td>0.711561</td>\n",
       "      <td>1.106940</td>\n",
       "      <td>1.102846</td>\n",
       "      <td>4707.956783</td>\n",
       "      <td>0.852077</td>\n",
       "      <td>7.780782</td>\n",
       "      <td>0.706476</td>\n",
       "      <td>6.126525</td>\n",
       "      <td>3.623137</td>\n",
       "      <td>3.568136</td>\n",
       "    </tr>\n",
       "    <tr>\n",
       "      <th>min</th>\n",
       "      <td>18.000000</td>\n",
       "      <td>1.000000</td>\n",
       "      <td>1.000000</td>\n",
       "      <td>1.000000</td>\n",
       "      <td>1.000000</td>\n",
       "      <td>1009.000000</td>\n",
       "      <td>0.000000</td>\n",
       "      <td>0.000000</td>\n",
       "      <td>1.000000</td>\n",
       "      <td>0.000000</td>\n",
       "      <td>0.000000</td>\n",
       "      <td>0.000000</td>\n",
       "    </tr>\n",
       "    <tr>\n",
       "      <th>25%</th>\n",
       "      <td>30.000000</td>\n",
       "      <td>2.000000</td>\n",
       "      <td>2.000000</td>\n",
       "      <td>1.000000</td>\n",
       "      <td>2.000000</td>\n",
       "      <td>2911.000000</td>\n",
       "      <td>0.000000</td>\n",
       "      <td>6.000000</td>\n",
       "      <td>2.000000</td>\n",
       "      <td>3.000000</td>\n",
       "      <td>2.000000</td>\n",
       "      <td>2.000000</td>\n",
       "    </tr>\n",
       "    <tr>\n",
       "      <th>50%</th>\n",
       "      <td>36.000000</td>\n",
       "      <td>3.000000</td>\n",
       "      <td>3.000000</td>\n",
       "      <td>2.000000</td>\n",
       "      <td>3.000000</td>\n",
       "      <td>4919.000000</td>\n",
       "      <td>1.000000</td>\n",
       "      <td>10.000000</td>\n",
       "      <td>3.000000</td>\n",
       "      <td>5.000000</td>\n",
       "      <td>3.000000</td>\n",
       "      <td>3.000000</td>\n",
       "    </tr>\n",
       "    <tr>\n",
       "      <th>75%</th>\n",
       "      <td>43.000000</td>\n",
       "      <td>4.000000</td>\n",
       "      <td>3.000000</td>\n",
       "      <td>3.000000</td>\n",
       "      <td>4.000000</td>\n",
       "      <td>8379.000000</td>\n",
       "      <td>1.000000</td>\n",
       "      <td>15.000000</td>\n",
       "      <td>3.000000</td>\n",
       "      <td>9.000000</td>\n",
       "      <td>7.000000</td>\n",
       "      <td>7.000000</td>\n",
       "    </tr>\n",
       "    <tr>\n",
       "      <th>max</th>\n",
       "      <td>60.000000</td>\n",
       "      <td>4.000000</td>\n",
       "      <td>4.000000</td>\n",
       "      <td>5.000000</td>\n",
       "      <td>4.000000</td>\n",
       "      <td>19999.000000</td>\n",
       "      <td>3.000000</td>\n",
       "      <td>40.000000</td>\n",
       "      <td>4.000000</td>\n",
       "      <td>40.000000</td>\n",
       "      <td>18.000000</td>\n",
       "      <td>17.000000</td>\n",
       "    </tr>\n",
       "  </tbody>\n",
       "</table>\n",
       "</div>"
      ],
      "text/plain": [
       "               Age  EnvironmentSatisfaction  JobInvolvement     JobLevel  \\\n",
       "count  1470.000000              1470.000000     1470.000000  1470.000000   \n",
       "mean     36.923810                 2.721769        2.729932     2.063946   \n",
       "std       9.135373                 1.093082        0.711561     1.106940   \n",
       "min      18.000000                 1.000000        1.000000     1.000000   \n",
       "25%      30.000000                 2.000000        2.000000     1.000000   \n",
       "50%      36.000000                 3.000000        3.000000     2.000000   \n",
       "75%      43.000000                 4.000000        3.000000     3.000000   \n",
       "max      60.000000                 4.000000        4.000000     5.000000   \n",
       "\n",
       "       JobSatisfaction  MonthlyIncome  StockOptionLevel  TotalWorkingYears  \\\n",
       "count      1470.000000    1470.000000       1470.000000        1470.000000   \n",
       "mean          2.728571    6502.931293          0.793878          11.279592   \n",
       "std           1.102846    4707.956783          0.852077           7.780782   \n",
       "min           1.000000    1009.000000          0.000000           0.000000   \n",
       "25%           2.000000    2911.000000          0.000000           6.000000   \n",
       "50%           3.000000    4919.000000          1.000000          10.000000   \n",
       "75%           4.000000    8379.000000          1.000000          15.000000   \n",
       "max           4.000000   19999.000000          3.000000          40.000000   \n",
       "\n",
       "       WorkLifeBalance  YearsAtCompany  YearsInCurrentRole  \\\n",
       "count      1470.000000     1470.000000         1470.000000   \n",
       "mean          2.761224        7.008163            4.229252   \n",
       "std           0.706476        6.126525            3.623137   \n",
       "min           1.000000        0.000000            0.000000   \n",
       "25%           2.000000        3.000000            2.000000   \n",
       "50%           3.000000        5.000000            3.000000   \n",
       "75%           3.000000        9.000000            7.000000   \n",
       "max           4.000000       40.000000           18.000000   \n",
       "\n",
       "       YearsWithCurrManager  \n",
       "count           1470.000000  \n",
       "mean               4.123129  \n",
       "std                3.568136  \n",
       "min                0.000000  \n",
       "25%                2.000000  \n",
       "50%                3.000000  \n",
       "75%                7.000000  \n",
       "max               17.000000  "
      ]
     },
     "execution_count": 9,
     "metadata": {},
     "output_type": "execute_result"
    }
   ],
   "source": [
    "df.describe() # 5 Number Summary"
   ]
  },
  {
   "cell_type": "code",
   "execution_count": 10,
   "id": "917456c8",
   "metadata": {},
   "outputs": [
    {
     "data": {
      "text/html": [
       "<div>\n",
       "<style scoped>\n",
       "    .dataframe tbody tr th:only-of-type {\n",
       "        vertical-align: middle;\n",
       "    }\n",
       "\n",
       "    .dataframe tbody tr th {\n",
       "        vertical-align: top;\n",
       "    }\n",
       "\n",
       "    .dataframe thead th {\n",
       "        text-align: right;\n",
       "    }\n",
       "</style>\n",
       "<table border=\"1\" class=\"dataframe\">\n",
       "  <thead>\n",
       "    <tr style=\"text-align: right;\">\n",
       "      <th></th>\n",
       "      <th>count</th>\n",
       "      <th>mean</th>\n",
       "      <th>std</th>\n",
       "      <th>min</th>\n",
       "      <th>25%</th>\n",
       "      <th>50%</th>\n",
       "      <th>75%</th>\n",
       "      <th>max</th>\n",
       "    </tr>\n",
       "  </thead>\n",
       "  <tbody>\n",
       "    <tr>\n",
       "      <th>Age</th>\n",
       "      <td>1470.0</td>\n",
       "      <td>36.923810</td>\n",
       "      <td>9.135373</td>\n",
       "      <td>18.0</td>\n",
       "      <td>30.0</td>\n",
       "      <td>36.0</td>\n",
       "      <td>43.0</td>\n",
       "      <td>60.0</td>\n",
       "    </tr>\n",
       "    <tr>\n",
       "      <th>EnvironmentSatisfaction</th>\n",
       "      <td>1470.0</td>\n",
       "      <td>2.721769</td>\n",
       "      <td>1.093082</td>\n",
       "      <td>1.0</td>\n",
       "      <td>2.0</td>\n",
       "      <td>3.0</td>\n",
       "      <td>4.0</td>\n",
       "      <td>4.0</td>\n",
       "    </tr>\n",
       "    <tr>\n",
       "      <th>JobInvolvement</th>\n",
       "      <td>1470.0</td>\n",
       "      <td>2.729932</td>\n",
       "      <td>0.711561</td>\n",
       "      <td>1.0</td>\n",
       "      <td>2.0</td>\n",
       "      <td>3.0</td>\n",
       "      <td>3.0</td>\n",
       "      <td>4.0</td>\n",
       "    </tr>\n",
       "    <tr>\n",
       "      <th>JobLevel</th>\n",
       "      <td>1470.0</td>\n",
       "      <td>2.063946</td>\n",
       "      <td>1.106940</td>\n",
       "      <td>1.0</td>\n",
       "      <td>1.0</td>\n",
       "      <td>2.0</td>\n",
       "      <td>3.0</td>\n",
       "      <td>5.0</td>\n",
       "    </tr>\n",
       "    <tr>\n",
       "      <th>JobSatisfaction</th>\n",
       "      <td>1470.0</td>\n",
       "      <td>2.728571</td>\n",
       "      <td>1.102846</td>\n",
       "      <td>1.0</td>\n",
       "      <td>2.0</td>\n",
       "      <td>3.0</td>\n",
       "      <td>4.0</td>\n",
       "      <td>4.0</td>\n",
       "    </tr>\n",
       "    <tr>\n",
       "      <th>MonthlyIncome</th>\n",
       "      <td>1470.0</td>\n",
       "      <td>6502.931293</td>\n",
       "      <td>4707.956783</td>\n",
       "      <td>1009.0</td>\n",
       "      <td>2911.0</td>\n",
       "      <td>4919.0</td>\n",
       "      <td>8379.0</td>\n",
       "      <td>19999.0</td>\n",
       "    </tr>\n",
       "    <tr>\n",
       "      <th>StockOptionLevel</th>\n",
       "      <td>1470.0</td>\n",
       "      <td>0.793878</td>\n",
       "      <td>0.852077</td>\n",
       "      <td>0.0</td>\n",
       "      <td>0.0</td>\n",
       "      <td>1.0</td>\n",
       "      <td>1.0</td>\n",
       "      <td>3.0</td>\n",
       "    </tr>\n",
       "    <tr>\n",
       "      <th>TotalWorkingYears</th>\n",
       "      <td>1470.0</td>\n",
       "      <td>11.279592</td>\n",
       "      <td>7.780782</td>\n",
       "      <td>0.0</td>\n",
       "      <td>6.0</td>\n",
       "      <td>10.0</td>\n",
       "      <td>15.0</td>\n",
       "      <td>40.0</td>\n",
       "    </tr>\n",
       "    <tr>\n",
       "      <th>WorkLifeBalance</th>\n",
       "      <td>1470.0</td>\n",
       "      <td>2.761224</td>\n",
       "      <td>0.706476</td>\n",
       "      <td>1.0</td>\n",
       "      <td>2.0</td>\n",
       "      <td>3.0</td>\n",
       "      <td>3.0</td>\n",
       "      <td>4.0</td>\n",
       "    </tr>\n",
       "    <tr>\n",
       "      <th>YearsAtCompany</th>\n",
       "      <td>1470.0</td>\n",
       "      <td>7.008163</td>\n",
       "      <td>6.126525</td>\n",
       "      <td>0.0</td>\n",
       "      <td>3.0</td>\n",
       "      <td>5.0</td>\n",
       "      <td>9.0</td>\n",
       "      <td>40.0</td>\n",
       "    </tr>\n",
       "    <tr>\n",
       "      <th>YearsInCurrentRole</th>\n",
       "      <td>1470.0</td>\n",
       "      <td>4.229252</td>\n",
       "      <td>3.623137</td>\n",
       "      <td>0.0</td>\n",
       "      <td>2.0</td>\n",
       "      <td>3.0</td>\n",
       "      <td>7.0</td>\n",
       "      <td>18.0</td>\n",
       "    </tr>\n",
       "    <tr>\n",
       "      <th>YearsWithCurrManager</th>\n",
       "      <td>1470.0</td>\n",
       "      <td>4.123129</td>\n",
       "      <td>3.568136</td>\n",
       "      <td>0.0</td>\n",
       "      <td>2.0</td>\n",
       "      <td>3.0</td>\n",
       "      <td>7.0</td>\n",
       "      <td>17.0</td>\n",
       "    </tr>\n",
       "  </tbody>\n",
       "</table>\n",
       "</div>"
      ],
      "text/plain": [
       "                          count         mean          std     min     25%  \\\n",
       "Age                      1470.0    36.923810     9.135373    18.0    30.0   \n",
       "EnvironmentSatisfaction  1470.0     2.721769     1.093082     1.0     2.0   \n",
       "JobInvolvement           1470.0     2.729932     0.711561     1.0     2.0   \n",
       "JobLevel                 1470.0     2.063946     1.106940     1.0     1.0   \n",
       "JobSatisfaction          1470.0     2.728571     1.102846     1.0     2.0   \n",
       "MonthlyIncome            1470.0  6502.931293  4707.956783  1009.0  2911.0   \n",
       "StockOptionLevel         1470.0     0.793878     0.852077     0.0     0.0   \n",
       "TotalWorkingYears        1470.0    11.279592     7.780782     0.0     6.0   \n",
       "WorkLifeBalance          1470.0     2.761224     0.706476     1.0     2.0   \n",
       "YearsAtCompany           1470.0     7.008163     6.126525     0.0     3.0   \n",
       "YearsInCurrentRole       1470.0     4.229252     3.623137     0.0     2.0   \n",
       "YearsWithCurrManager     1470.0     4.123129     3.568136     0.0     2.0   \n",
       "\n",
       "                            50%     75%      max  \n",
       "Age                        36.0    43.0     60.0  \n",
       "EnvironmentSatisfaction     3.0     4.0      4.0  \n",
       "JobInvolvement              3.0     3.0      4.0  \n",
       "JobLevel                    2.0     3.0      5.0  \n",
       "JobSatisfaction             3.0     4.0      4.0  \n",
       "MonthlyIncome            4919.0  8379.0  19999.0  \n",
       "StockOptionLevel            1.0     1.0      3.0  \n",
       "TotalWorkingYears          10.0    15.0     40.0  \n",
       "WorkLifeBalance             3.0     3.0      4.0  \n",
       "YearsAtCompany              5.0     9.0     40.0  \n",
       "YearsInCurrentRole          3.0     7.0     18.0  \n",
       "YearsWithCurrManager        3.0     7.0     17.0  "
      ]
     },
     "execution_count": 10,
     "metadata": {},
     "output_type": "execute_result"
    }
   ],
   "source": [
    "df.describe().T"
   ]
  },
  {
   "cell_type": "markdown",
   "id": "edbce673",
   "metadata": {},
   "source": [
    "The 'Attrition' feature will be our dependent variable/feature and rest all independent valriables/features"
   ]
  },
  {
   "cell_type": "code",
   "execution_count": 11,
   "id": "b4f58296",
   "metadata": {},
   "outputs": [
    {
     "data": {
      "text/plain": [
       "Index(['Attrition', 'BusinessTravel', 'JobRole', 'MaritalStatus', 'OverTime'], dtype='object')"
      ]
     },
     "execution_count": 11,
     "metadata": {},
     "output_type": "execute_result"
    }
   ],
   "source": [
    "# Categorical columns\n",
    "df.select_dtypes(include='object').columns"
   ]
  },
  {
   "cell_type": "code",
   "execution_count": 12,
   "id": "fa988842",
   "metadata": {},
   "outputs": [
    {
     "data": {
      "text/plain": [
       "5"
      ]
     },
     "execution_count": 12,
     "metadata": {},
     "output_type": "execute_result"
    }
   ],
   "source": [
    "len(df.select_dtypes(include='object').columns)"
   ]
  },
  {
   "cell_type": "code",
   "execution_count": 13,
   "id": "3f8f8902",
   "metadata": {},
   "outputs": [
    {
     "data": {
      "text/plain": [
       "Index(['Age', 'EnvironmentSatisfaction', 'JobInvolvement', 'JobLevel',\n",
       "       'JobSatisfaction', 'MonthlyIncome', 'StockOptionLevel',\n",
       "       'TotalWorkingYears', 'WorkLifeBalance', 'YearsAtCompany',\n",
       "       'YearsInCurrentRole', 'YearsWithCurrManager'],\n",
       "      dtype='object')"
      ]
     },
     "execution_count": 13,
     "metadata": {},
     "output_type": "execute_result"
    }
   ],
   "source": [
    "# numerical columns\n",
    "df.select_dtypes(include='int64').columns"
   ]
  },
  {
   "cell_type": "code",
   "execution_count": 14,
   "id": "b3c50e9e",
   "metadata": {},
   "outputs": [
    {
     "data": {
      "text/plain": [
       "12"
      ]
     },
     "execution_count": 14,
     "metadata": {},
     "output_type": "execute_result"
    }
   ],
   "source": [
    "len(df.select_dtypes(include='int64').columns)"
   ]
  },
  {
   "cell_type": "code",
   "execution_count": 15,
   "id": "257fcd8d",
   "metadata": {},
   "outputs": [
    {
     "data": {
      "image/png": "[encoded data removed]",
      "text/plain": [
       "<Figure size 2000x2000 with 12 Axes>"
      ]
     },
     "metadata": {},
     "output_type": "display_data"
    }
   ],
   "source": [
    "df.hist(figsize =(20,20))\n",
    "plt.tight_layout()\n",
    "plt.show()"
   ]
  },
  {
   "cell_type": "code",
   "execution_count": 16,
   "id": "c09ecb65",
   "metadata": {},
   "outputs": [],
   "source": [
    "# df.Age.skew(), df.DistanceFromHome.skew(), df.MonthlyIncome.skew(), df.NumCompaniesWorked.skew(),\n",
    "# df.PercentSalaryHike.skew(), df.TotalWorkingYears.skew(), df.YearsAtCompany.skew(), df.YearsInCurrentRole.skew()"
   ]
  },
  {
   "cell_type": "code",
   "execution_count": 17,
   "id": "4d58803c",
   "metadata": {},
   "outputs": [],
   "source": [
    "# df.Age.kurtosis(), df.DistanceFromHome.kurtosis(), df.MonthlyIncome.kurtosis(), df.NumCompaniesWorked.kurtosis(),\n",
    "# df.PercentSalaryHike.kurtosis(), df.TotalWorkingYears.kurtosis(), df.YearsAtCompany.kurtosis(), df.YearsInCurrentRole.kurtosis()"
   ]
  },
  {
   "cell_type": "markdown",
   "id": "17a437ea",
   "metadata": {},
   "source": [
    "By seeing the Histograms we cany say that most of the distibutions are right-skewed.\n",
    "Age feature is not that right skewed. most of the employees are between 25-40 years age group.\n",
    "Features like EmployeeCount and StandardHours can be ignored as they donot have relevant information useful to us."
   ]
  },
  {
   "cell_type": "code",
   "execution_count": 18,
   "id": "c8374d26",
   "metadata": {},
   "outputs": [],
   "source": [
    "# #We can drop columns/features of no important or relavent\n",
    "# df['EmployeeCount'].nunique()\n"
   ]
  },
  {
   "cell_type": "code",
   "execution_count": 19,
   "id": "8e86a0ed",
   "metadata": {},
   "outputs": [],
   "source": [
    "# df['EmployeeCount'].nunique()\n"
   ]
  },
  {
   "cell_type": "code",
   "execution_count": 20,
   "id": "7c0e7f33",
   "metadata": {},
   "outputs": [],
   "source": [
    "# df['EmployeeNumber'].nunique()"
   ]
  },
  {
   "cell_type": "code",
   "execution_count": 21,
   "id": "ac57a552",
   "metadata": {},
   "outputs": [],
   "source": [
    "# df['Over18'].nunique()\n"
   ]
  },
  {
   "cell_type": "code",
   "execution_count": 22,
   "id": "56bd4451",
   "metadata": {},
   "outputs": [],
   "source": [
    "# df['StandardHours'].nunique()"
   ]
  },
  {
   "cell_type": "code",
   "execution_count": 23,
   "id": "21af0260",
   "metadata": {},
   "outputs": [],
   "source": [
    "# df = df.drop(columns=['EmployeeCount', 'EmployeeNumber', 'Over18', 'StandardHours'])"
   ]
  },
  {
   "cell_type": "code",
   "execution_count": 24,
   "id": "05a0d301",
   "metadata": {},
   "outputs": [],
   "source": [
    "# df.head()"
   ]
  },
  {
   "cell_type": "code",
   "execution_count": 25,
   "id": "8bb0df1f",
   "metadata": {},
   "outputs": [],
   "source": [
    "# df.shape #we have dropped 3 features so shape (2940,32)"
   ]
  },
  {
   "cell_type": "code",
   "execution_count": 26,
   "id": "8858fcbe",
   "metadata": {},
   "outputs": [],
   "source": [
    "# df.describe().T\n"
   ]
  },
  {
   "cell_type": "code",
   "execution_count": 27,
   "id": "b11d0c06",
   "metadata": {},
   "outputs": [
    {
     "data": {
      "image/png": "[encoded data removed]",
      "text/plain": [
       "<Figure size 640x480 with 1 Axes>"
      ]
     },
     "metadata": {},
     "output_type": "display_data"
    }
   ],
   "source": [
    "sns.countplot(df['Attrition']) \n",
    "plt.show()\n",
    "#Attrition Count (tells about the employees left and working in the company)"
   ]
  },
  {
   "cell_type": "code",
   "execution_count": 28,
   "id": "6125208d",
   "metadata": {},
   "outputs": [
    {
     "data": {
      "text/plain": [
       "237"
      ]
     },
     "execution_count": 28,
     "metadata": {},
     "output_type": "execute_result"
    }
   ],
   "source": [
    "# Employees left the company\n",
    "(df.Attrition == 'Yes').sum()"
   ]
  },
  {
   "cell_type": "code",
   "execution_count": 29,
   "id": "1d3645b9",
   "metadata": {},
   "outputs": [
    {
     "data": {
      "text/plain": [
       "1233"
      ]
     },
     "execution_count": 29,
     "metadata": {},
     "output_type": "execute_result"
    }
   ],
   "source": [
    "# Employees with the company\n",
    "(df.Attrition == 'No').sum()"
   ]
  },
  {
   "cell_type": "markdown",
   "id": "83c31652",
   "metadata": {},
   "source": [
    "# Univariate Analysis"
   ]
  },
  {
   "cell_type": "code",
   "execution_count": 30,
   "id": "9220adc0",
   "metadata": {},
   "outputs": [
    {
     "data": {
      "text/plain": [
       "count    1470.000000\n",
       "mean       36.923810\n",
       "std         9.135373\n",
       "min        18.000000\n",
       "25%        30.000000\n",
       "50%        36.000000\n",
       "75%        43.000000\n",
       "max        60.000000\n",
       "Name: Age, dtype: float64"
      ]
     },
     "execution_count": 30,
     "metadata": {},
     "output_type": "execute_result"
    }
   ],
   "source": [
    "df.Age.describe()"
   ]
  },
  {
   "cell_type": "code",
   "execution_count": 31,
   "id": "5e3da8f9",
   "metadata": {},
   "outputs": [
    {
     "data": {
      "image/png": "[encoded data removed]"
     },
     "metadata": {},
     "output_type": "display_data"
    }
   ],
   "source": [
    "fig = px.histogram(df, x=\"Age\",nbins=(10))\n",
    "fig.show(\"png\")"
   ]
  },
  {
   "cell_type": "code",
   "execution_count": 36,
   "id": "5c702d89",
   "metadata": {},
   "outputs": [
    {
     "data": {
      "image/png": "[encoded data removed]",
      "text/plain": [
       "<Figure size 640x480 with 1 Axes>"
      ]
     },
     "metadata": {},
     "output_type": "display_data"
    },
    {
     "data": {
      "image/png": "[encoded data removed]",
      "text/plain": [
       "<Figure size 640x480 with 1 Axes>"
      ]
     },
     "metadata": {},
     "output_type": "display_data"
    },
    {
     "data": {
      "image/png": "[encoded data removed]",
      "text/plain": [
       "<Figure size 640x480 with 1 Axes>"
      ]
     },
     "metadata": {},
     "output_type": "display_data"
    },
    {
     "ename": "KeyError",
     "evalue": "'PerformanceRating'",
     "output_type": "error",
     "traceback": [
      "\u001b[1;31m---------------------------------------------------------------------------\u001b[0m",
      "\u001b[1;31mKeyError\u001b[0m                                  Traceback (most recent call last)",
      "\u001b[1;32m~\\AppData\\Local\\Temp\\ipykernel_3944\\4238719007.py\u001b[0m in \u001b[0;36m<module>\u001b[1;34m\u001b[0m\n\u001b[0;32m     25\u001b[0m \u001b[1;33m\u001b[0m\u001b[0m\n\u001b[0;32m     26\u001b[0m \u001b[1;31m# create a bar chart of employee performance ratings by attrition status\u001b[0m\u001b[1;33m\u001b[0m\u001b[1;33m\u001b[0m\u001b[0m\n\u001b[1;32m---> 27\u001b[1;33m \u001b[0mdf\u001b[0m\u001b[1;33m.\u001b[0m\u001b[0mgroupby\u001b[0m\u001b[1;33m(\u001b[0m\u001b[1;33m[\u001b[0m\u001b[1;34m\"Attrition\"\u001b[0m\u001b[1;33m,\u001b[0m \u001b[1;34m\"PerformanceRating\"\u001b[0m\u001b[1;33m]\u001b[0m\u001b[1;33m)\u001b[0m\u001b[1;33m.\u001b[0m\u001b[0msize\u001b[0m\u001b[1;33m(\u001b[0m\u001b[1;33m)\u001b[0m\u001b[1;33m.\u001b[0m\u001b[0munstack\u001b[0m\u001b[1;33m(\u001b[0m\u001b[1;33m)\u001b[0m\u001b[1;33m.\u001b[0m\u001b[0mplot\u001b[0m\u001b[1;33m(\u001b[0m\u001b[0mkind\u001b[0m\u001b[1;33m=\u001b[0m\u001b[1;34m\"bar\"\u001b[0m\u001b[1;33m)\u001b[0m\u001b[1;33m\u001b[0m\u001b[1;33m\u001b[0m\u001b[0m\n\u001b[0m\u001b[0;32m     28\u001b[0m \u001b[0mplt\u001b[0m\u001b[1;33m.\u001b[0m\u001b[0mxlabel\u001b[0m\u001b[1;33m(\u001b[0m\u001b[1;34m\"Attrition\"\u001b[0m\u001b[1;33m)\u001b[0m\u001b[1;33m\u001b[0m\u001b[1;33m\u001b[0m\u001b[0m\n\u001b[0;32m     29\u001b[0m \u001b[0mplt\u001b[0m\u001b[1;33m.\u001b[0m\u001b[0mylabel\u001b[0m\u001b[1;33m(\u001b[0m\u001b[1;34m\"Count\"\u001b[0m\u001b[1;33m)\u001b[0m\u001b[1;33m\u001b[0m\u001b[1;33m\u001b[0m\u001b[0m\n",
      "\u001b[1;32m~\\anaconda3\\lib\\site-packages\\pandas\\core\\frame.py\u001b[0m in \u001b[0;36mgroupby\u001b[1;34m(self, by, axis, level, as_index, sort, group_keys, squeeze, observed, dropna)\u001b[0m\n\u001b[0;32m   7719\u001b[0m         \u001b[1;31m# error: Argument \"squeeze\" to \"DataFrameGroupBy\" has incompatible type\u001b[0m\u001b[1;33m\u001b[0m\u001b[1;33m\u001b[0m\u001b[0m\n\u001b[0;32m   7720\u001b[0m         \u001b[1;31m# \"Union[bool, NoDefault]\"; expected \"bool\"\u001b[0m\u001b[1;33m\u001b[0m\u001b[1;33m\u001b[0m\u001b[0m\n\u001b[1;32m-> 7721\u001b[1;33m         return DataFrameGroupBy(\n\u001b[0m\u001b[0;32m   7722\u001b[0m             \u001b[0mobj\u001b[0m\u001b[1;33m=\u001b[0m\u001b[0mself\u001b[0m\u001b[1;33m,\u001b[0m\u001b[1;33m\u001b[0m\u001b[1;33m\u001b[0m\u001b[0m\n\u001b[0;32m   7723\u001b[0m             \u001b[0mkeys\u001b[0m\u001b[1;33m=\u001b[0m\u001b[0mby\u001b[0m\u001b[1;33m,\u001b[0m\u001b[1;33m\u001b[0m\u001b[1;33m\u001b[0m\u001b[0m\n",
      "\u001b[1;32m~\\anaconda3\\lib\\site-packages\\pandas\\core\\groupby\\groupby.py\u001b[0m in \u001b[0;36m__init__\u001b[1;34m(self, obj, keys, axis, level, grouper, exclusions, selection, as_index, sort, group_keys, squeeze, observed, mutated, dropna)\u001b[0m\n\u001b[0;32m    880\u001b[0m             \u001b[1;32mfrom\u001b[0m \u001b[0mpandas\u001b[0m\u001b[1;33m.\u001b[0m\u001b[0mcore\u001b[0m\u001b[1;33m.\u001b[0m\u001b[0mgroupby\u001b[0m\u001b[1;33m.\u001b[0m\u001b[0mgrouper\u001b[0m \u001b[1;32mimport\u001b[0m \u001b[0mget_grouper\u001b[0m\u001b[1;33m\u001b[0m\u001b[1;33m\u001b[0m\u001b[0m\n\u001b[0;32m    881\u001b[0m \u001b[1;33m\u001b[0m\u001b[0m\n\u001b[1;32m--> 882\u001b[1;33m             grouper, exclusions, obj = get_grouper(\n\u001b[0m\u001b[0;32m    883\u001b[0m                 \u001b[0mobj\u001b[0m\u001b[1;33m,\u001b[0m\u001b[1;33m\u001b[0m\u001b[1;33m\u001b[0m\u001b[0m\n\u001b[0;32m    884\u001b[0m                 \u001b[0mkeys\u001b[0m\u001b[1;33m,\u001b[0m\u001b[1;33m\u001b[0m\u001b[1;33m\u001b[0m\u001b[0m\n",
      "\u001b[1;32m~\\anaconda3\\lib\\site-packages\\pandas\\core\\groupby\\grouper.py\u001b[0m in \u001b[0;36mget_grouper\u001b[1;34m(obj, key, axis, level, sort, observed, mutated, validate, dropna)\u001b[0m\n\u001b[0;32m    880\u001b[0m                 \u001b[0min_axis\u001b[0m\u001b[1;33m,\u001b[0m \u001b[0mlevel\u001b[0m\u001b[1;33m,\u001b[0m \u001b[0mgpr\u001b[0m \u001b[1;33m=\u001b[0m \u001b[1;32mFalse\u001b[0m\u001b[1;33m,\u001b[0m \u001b[0mgpr\u001b[0m\u001b[1;33m,\u001b[0m \u001b[1;32mNone\u001b[0m\u001b[1;33m\u001b[0m\u001b[1;33m\u001b[0m\u001b[0m\n\u001b[0;32m    881\u001b[0m             \u001b[1;32melse\u001b[0m\u001b[1;33m:\u001b[0m\u001b[1;33m\u001b[0m\u001b[1;33m\u001b[0m\u001b[0m\n\u001b[1;32m--> 882\u001b[1;33m                 \u001b[1;32mraise\u001b[0m \u001b[0mKeyError\u001b[0m\u001b[1;33m(\u001b[0m\u001b[0mgpr\u001b[0m\u001b[1;33m)\u001b[0m\u001b[1;33m\u001b[0m\u001b[1;33m\u001b[0m\u001b[0m\n\u001b[0m\u001b[0;32m    883\u001b[0m         \u001b[1;32melif\u001b[0m \u001b[0misinstance\u001b[0m\u001b[1;33m(\u001b[0m\u001b[0mgpr\u001b[0m\u001b[1;33m,\u001b[0m \u001b[0mGrouper\u001b[0m\u001b[1;33m)\u001b[0m \u001b[1;32mand\u001b[0m \u001b[0mgpr\u001b[0m\u001b[1;33m.\u001b[0m\u001b[0mkey\u001b[0m \u001b[1;32mis\u001b[0m \u001b[1;32mnot\u001b[0m \u001b[1;32mNone\u001b[0m\u001b[1;33m:\u001b[0m\u001b[1;33m\u001b[0m\u001b[1;33m\u001b[0m\u001b[0m\n\u001b[0;32m    884\u001b[0m             \u001b[1;31m# Add key to exclusions\u001b[0m\u001b[1;33m\u001b[0m\u001b[1;33m\u001b[0m\u001b[0m\n",
      "\u001b[1;31mKeyError\u001b[0m: 'PerformanceRating'"
     ]
    }
   ],
   "source": [
    "# create a histogram of employee ages by attrition status\n",
    "plt.hist(df[df[\"Attrition\"] == \"Yes\"][\"Age\"], alpha=0.5, label=\"Left\")\n",
    "plt.hist(df[df[\"Attrition\"] == \"No\"][\"Age\"], alpha=0.5, label=\"Stayed\")\n",
    "plt.xlabel(\"Age\")\n",
    "plt.ylabel(\"Count\")\n",
    "plt.legend()\n",
    "plt.show()\n",
    "\n",
    "# create a boxplot of employee job levels by attrition status\n",
    "plt.boxplot([df[df[\"Attrition\"] == \"Yes\"][\"JobLevel\"],\n",
    "             df[df[\"Attrition\"] == \"No\"][\"JobLevel\"]])\n",
    "plt.xticks([1, 2], [\"Left\", \"Stayed\"])\n",
    "plt.ylabel(\"Job Level\")\n",
    "plt.show()\n",
    "\n",
    "# create a scatterplot of employee salaries by attrition status\n",
    "plt.scatter(df[df[\"Attrition\"] == \"Yes\"][\"MonthlyIncome\"],\n",
    "           df[df[\"Attrition\"] == \"Yes\"][\"YearsAtCompany\"], alpha=0.5, label=\"Left\")\n",
    "plt.scatter(df[df[\"Attrition\"] == \"No\"][\"MonthlyIncome\"],\n",
    "            df[df[\"Attrition\"] == \"No\"][\"YearsAtCompany\"], alpha=0.5, label=\"Stayed\")\n",
    "plt.xlabel(\"Monthly Income\")\n",
    "plt.ylabel(\"Years at Company\")\n",
    "plt.legend()\n",
    "plt.show()\n",
    "\n",
    "# create a bar chart of employee performance ratings by attrition status\n",
    "df.groupby([\"Attrition\", \"PerformanceRating\"]).size().unstack().plot(kind=\"bar\")\n",
    "plt.xlabel(\"Attrition\")\n",
    "plt.ylabel(\"Count\")\n",
    "plt.show()\n",
    "\n",
    "\n",
    "\n",
    "\n",
    "\n"
   ]
  },
  {
   "cell_type": "code",
   "execution_count": 32,
   "id": "e494f277",
   "metadata": {},
   "outputs": [
    {
     "name": "stdout",
     "output_type": "stream",
     "text": [
      "\u001b[1mFindings:\n",
      "42.31 % of employees are in the range of 30 to 39 years.\n"
     ]
    }
   ],
   "source": [
    "print('\\033[1m' \"Findings:\")\n",
    "print(round(len(df.query(\"Age>=30 and Age<40\"))/len(df)*100,2),\"% of employees are in the range of 30 to 39 years.\")"
   ]
  },
  {
   "cell_type": "code",
   "execution_count": 33,
   "id": "9700b84a",
   "metadata": {},
   "outputs": [
    {
     "ename": "NameError",
     "evalue": "name 'go' is not defined",
     "output_type": "error",
     "traceback": [
      "\u001b[1;31m---------------------------------------------------------------------------\u001b[0m",
      "\u001b[1;31mNameError\u001b[0m                                 Traceback (most recent call last)",
      "\u001b[1;32m~\\AppData\\Local\\Temp\\ipykernel_3944\\1042742393.py\u001b[0m in \u001b[0;36m<module>\u001b[1;34m\u001b[0m\n\u001b[0;32m      1\u001b[0m \u001b[1;31m# Plot\u001b[0m\u001b[1;33m\u001b[0m\u001b[1;33m\u001b[0m\u001b[0m\n\u001b[0;32m      2\u001b[0m \u001b[1;33m\u001b[0m\u001b[0m\n\u001b[1;32m----> 3\u001b[1;33m plot_data = [go.Bar(x = df['Department'].value_counts().sort_index().index, \n\u001b[0m\u001b[0;32m      4\u001b[0m                     y = df['Department'].value_counts().sort_index(),)]\n\u001b[0;32m      5\u001b[0m \u001b[1;33m\u001b[0m\u001b[0m\n",
      "\u001b[1;31mNameError\u001b[0m: name 'go' is not defined"
     ]
    }
   ],
   "source": [
    "# Plot\n",
    "\n",
    "plot_data = [go.Bar(x = df['Department'].value_counts().sort_index().index, \n",
    "                    y = df['Department'].value_counts().sort_index(),)]\n",
    "\n",
    "# Layout\n",
    "plot_layout = go.Layout(xaxis = {\"type\": \"category\"}, \n",
    "                        title = 'Total employees per Department')\n",
    "\n",
    "fig = go.Figure(data = plot_data, layout = plot_layout)\n",
    "fig.show(\"png\")"
   ]
  },
  {
   "cell_type": "code",
   "execution_count": null,
   "id": "04306fd0",
   "metadata": {},
   "outputs": [],
   "source": [
    "rint('\\033[1m' \"Findings:\")\n",
    "print(\"R&D is the largest department, with\", round(len(df.query(\"Department=='Research & Development'\"))/len(df)*100,2), \"% of the total\")\n",
    "Findings:"
   ]
  },
  {
   "cell_type": "code",
   "execution_count": null,
   "id": "b2b7c3a6",
   "metadata": {},
   "outputs": [],
   "source": [
    "fig = px.histogram(data_frame = df, x='JobRole', title=\"Total employees per JobRole\")\n",
    "\n",
    "fig.show(\"png\")"
   ]
  },
  {
   "cell_type": "code",
   "execution_count": null,
   "id": "4f999266",
   "metadata": {},
   "outputs": [],
   "source": [
    "JobRole_Att = positive_attrition.groupby([\"JobRole\"])[\"Attrition\"].count().to_frame()\n",
    "JobRole_Att['Total'] = df.groupby([\"JobRole\"])[\"Attrition\"].count()\n",
    "JobRole_Att['Yes%'] = JobRole_Att['Attrition']/JobRole_Att['Total']*100\n",
    "JobRole_Att = JobRole_Att.reset_index().sort_values(by='Yes%', ascending=False)\n",
    "JobRole_Att"
   ]
  },
  {
   "cell_type": "code",
   "execution_count": null,
   "id": "7005aef8",
   "metadata": {},
   "outputs": [],
   "source": [
    "fig = px.bar(data_frame = JobRole_Att, x=\"JobRole\", y=\"Yes%\", title=\"Attrition per Job role (%)\")\n",
    "\n",
    "fig.show(\"png\")"
   ]
  },
  {
   "cell_type": "code",
   "execution_count": null,
   "id": "bc34641c",
   "metadata": {},
   "outputs": [],
   "source": [
    "# Plot\n",
    "\n",
    "plot_data = [go.Bar(x = df['Gender'].value_counts().index, \n",
    "                    y = df['Gender'].value_counts(),)]\n",
    "\n",
    "# Layout\n",
    "plot_layout = go.Layout(xaxis = {\"type\": \"category\"}, \n",
    "                        title = 'Total employees per gender')\n",
    "\n",
    "fig = go.Figure(data = plot_data, layout = plot_layout)\n",
    "fig.show(\"png\")"
   ]
  },
  {
   "cell_type": "code",
   "execution_count": null,
   "id": "032226c7",
   "metadata": {},
   "outputs": [],
   "source": [
    "Gender_Att = positive_attrition.groupby([\"Gender\"])[\"Attrition\"].count().to_frame()\n",
    "Gender_Att['Total'] = df.groupby([\"Gender\"])[\"Attrition\"].count()\n",
    "Gender_Att['Yes%'] = Gender_Att['Attrition']/Gender_Att['Total']*100\n",
    "Gender_Att = Gender_Att.reset_index().sort_values(by='Yes%', ascending=False)\n",
    "Gender_Att"
   ]
  },
  {
   "cell_type": "code",
   "execution_count": null,
   "id": "f3b9b320",
   "metadata": {},
   "outputs": [],
   "source": [
    "fig = px.bar(data_frame = Gender_Att, x=\"Gender\", y=\"Yes%\", title=\"Attrition per Gender (%)\")\n",
    "\n",
    "fig.show(\"png\")"
   ]
  },
  {
   "cell_type": "code",
   "execution_count": null,
   "id": "ac6d2894",
   "metadata": {},
   "outputs": [],
   "source": []
  },
  {
   "cell_type": "code",
   "execution_count": null,
   "id": "fcf06214",
   "metadata": {},
   "outputs": [],
   "source": []
  },
  {
   "cell_type": "code",
   "execution_count": null,
   "id": "3389e115",
   "metadata": {},
   "outputs": [],
   "source": []
  },
  {
   "cell_type": "code",
   "execution_count": null,
   "id": "3a583395",
   "metadata": {},
   "outputs": [],
   "source": []
  },
  {
   "cell_type": "code",
   "execution_count": null,
   "id": "02f67ca0",
   "metadata": {},
   "outputs": [],
   "source": []
  },
  {
   "cell_type": "code",
   "execution_count": null,
   "id": "ff2302a1",
   "metadata": {},
   "outputs": [],
   "source": [
    "fig, ax = plt.subplots(1, figsize=(10, 10))\n",
    "sns.boxplot(y=df['MonthlyIncome'], x=df['JobRole'])\n",
    "plt.grid(True, alpha =1)\n",
    "plt.xticks(rotation = 90)\n",
    "plt.tight_layout()\n",
    "plt.show()"
   ]
  },
  {
   "cell_type": "code",
   "execution_count": null,
   "id": "82e8c58c",
   "metadata": {},
   "outputs": [],
   "source": [
    "# fig, ax = plt.subplots(1, figsize=(10, 10))\n",
    "sns.catplot(x='JobRole', hue ='Attrition', data =df, kind ='count', height =10 , aspect =3,legend =False)\n",
    "plt.legend(loc='upper right', title ='Attrition')\n",
    "plt.xticks(rotation = 90)\n",
    "plt.tight_layout()\n",
    "plt.show()"
   ]
  },
  {
   "cell_type": "code",
   "execution_count": null,
   "id": "22a2d8ed",
   "metadata": {},
   "outputs": [],
   "source": [
    "\n",
    "# sns.countplot(x='Department', hue='Attrition', data=df)\n"
   ]
  },
  {
   "cell_type": "code",
   "execution_count": null,
   "id": "7acc85e1",
   "metadata": {},
   "outputs": [],
   "source": [
    "\n",
    "sns.countplot(x='JobSatisfaction', hue='Attrition', data=df)"
   ]
  },
  {
   "cell_type": "code",
   "execution_count": null,
   "id": "ee1106e0",
   "metadata": {},
   "outputs": [],
   "source": [
    "sns.catplot(x='JobRole', hue ='OverTime', data =df, kind ='count', height =10 , aspect =3,legend =False)\n",
    "plt.legend(loc='upper right', title ='Attrition')\n",
    "plt.xticks(rotation = 90)\n",
    "plt.tight_layout()\n",
    "plt.show()"
   ]
  },
  {
   "cell_type": "markdown",
   "id": "b4b5643a",
   "metadata": {},
   "source": [
    "By seeing the above box plot and other plots we can infer that the monthly income for Manager and Research Director job roles is high compared to the other. So there can be less chance of attrition in these job roles.\n",
    "On the other hand monthly income is very less for Research Scientist, Laboratory Technichian and Sales Representative. So there is can be high chance of attrition in these job roles."
   ]
  },
  {
   "cell_type": "code",
   "execution_count": null,
   "id": "8e1bb33b",
   "metadata": {},
   "outputs": [],
   "source": [
    "# Categorical columns\n",
    "df.select_dtypes(include='object').columns"
   ]
  },
  {
   "cell_type": "code",
   "execution_count": null,
   "id": "19684f21",
   "metadata": {},
   "outputs": [],
   "source": [
    "#converting object datatypes to categorical datatypes.\n",
    "for column in df.columns:\n",
    "    if df[column].dtype =='object':\n",
    "        df[column] = df[column].astype('category')\n",
    "        df[column] = df[column].astype('category').cat.codes\n",
    "        "
   ]
  },
  {
   "cell_type": "code",
   "execution_count": null,
   "id": "50862e04",
   "metadata": {},
   "outputs": [],
   "source": [
    "corr = df.corr()"
   ]
  },
  {
   "cell_type": "code",
   "execution_count": null,
   "id": "8073a622",
   "metadata": {},
   "outputs": [],
   "source": [
    "corr"
   ]
  },
  {
   "cell_type": "code",
   "execution_count": null,
   "id": "452d711b",
   "metadata": {},
   "outputs": [],
   "source": [
    "#Map/Matrix showing correlation between features\n",
    "plt.figure(figsize =(16,10))\n",
    "ax = sns.heatmap(corr, annot=True, linewidths =1, cmap='coolwarm')"
   ]
  },
  {
   "cell_type": "code",
   "execution_count": null,
   "id": "111d49ee",
   "metadata": {},
   "outputs": [],
   "source": [
    "corr_matrix = df.corr()\n",
    "\n",
    "# Find highly correlated features\n",
    "corr_threshold = 0.4\n",
    "corr_pairs = {}\n",
    "for i in range(len(corr_matrix.columns)):\n",
    "    for j in range(i):\n",
    "        if abs(corr_matrix.iloc[i, j]) > corr_threshold:\n",
    "            corr_pairs[corr_matrix.columns[i] + \" - \" + corr_matrix.columns[j]] = corr_matrix.iloc[i, j]\n",
    "\n",
    "# Print highly correlated features\n",
    "for pair, corr in corr_pairs.items():\n",
    "    print(pair + \" : \" + str(corr))"
   ]
  },
  {
   "cell_type": "code",
   "execution_count": null,
   "id": "58cf90b2",
   "metadata": {},
   "outputs": [],
   "source": [
    "# calculate correlation coefficients\n",
    "correlations = df.corr()['Attrition'].drop('Attrition')\n",
    "\n",
    "# print correlation coefficients in descending order\n",
    "print(correlations.sort_values(ascending=False))"
   ]
  },
  {
   "cell_type": "code",
   "execution_count": null,
   "id": "4d27d84c",
   "metadata": {},
   "outputs": [],
   "source": [
    "#Split the dataset for training testing\n",
    "# features\n",
    "\n",
    "\n",
    "X = df.drop(columns='Attrition', axis= 1)\n",
    "# target variable\n",
    "y = df['Attrition']"
   ]
  },
  {
   "cell_type": "markdown",
   "id": "bd7eadbd",
   "metadata": {},
   "source": [
    "# Splitting the dataset in 80:20(80% train data, 20% test data)"
   ]
  },
  {
   "cell_type": "code",
   "execution_count": null,
   "id": "5302f278",
   "metadata": {},
   "outputs": [],
   "source": [
    "from sklearn.model_selection import train_test_split\n",
    "X_train, X_test, y_train, y_test = train_test_split(X, y, test_size=0.2, random_state=42)"
   ]
  },
  {
   "cell_type": "code",
   "execution_count": null,
   "id": "ebb4969d",
   "metadata": {},
   "outputs": [],
   "source": [
    "print(X_train.shape, type(X_train))"
   ]
  },
  {
   "cell_type": "code",
   "execution_count": null,
   "id": "ec7e5701",
   "metadata": {},
   "outputs": [],
   "source": [
    "print(y_train.shape, type(y_train))"
   ]
  },
  {
   "cell_type": "code",
   "execution_count": null,
   "id": "9b10b26e",
   "metadata": {},
   "outputs": [],
   "source": [
    "print(y_test.shape, type(y_test))"
   ]
  },
  {
   "cell_type": "markdown",
   "id": "5155bc47",
   "metadata": {},
   "source": [
    "# Feature Sclaing/Standerdization"
   ]
  },
  {
   "cell_type": "code",
   "execution_count": null,
   "id": "63cc296e",
   "metadata": {},
   "outputs": [],
   "source": [
    "#Standerdization of data/Feature Scaling\n",
    "from sklearn.preprocessing import StandardScaler\n",
    "sc = StandardScaler()\n",
    "X_train = sc.fit_transform(X_train)\n",
    "X_test = sc.transform(X_test)"
   ]
  },
  {
   "cell_type": "code",
   "execution_count": null,
   "id": "9a8e42ba",
   "metadata": {},
   "outputs": [],
   "source": [
    "print(X_train, X_train.shape, type(X_train))"
   ]
  },
  {
   "cell_type": "code",
   "execution_count": null,
   "id": "97374ec6",
   "metadata": {},
   "outputs": [],
   "source": [
    "print(y_train.shape, type(y_train))"
   ]
  },
  {
   "cell_type": "code",
   "execution_count": null,
   "id": "89e524c6",
   "metadata": {},
   "outputs": [],
   "source": [
    "print(X_test,X_test.shape, type(X_test))"
   ]
  },
  {
   "cell_type": "code",
   "execution_count": null,
   "id": "c6624cd0",
   "metadata": {},
   "outputs": [],
   "source": [
    "print(y_test.shape, type(y_test))"
   ]
  },
  {
   "cell_type": "markdown",
   "id": "304dfc48",
   "metadata": {},
   "source": [
    "Our objective is to predict the Attrition and give insights to HR Department to make further strategies to retain the talent and to find the replacement at the earliest."
   ]
  },
  {
   "cell_type": "markdown",
   "id": "b7a05bcf",
   "metadata": {},
   "source": [
    "Predicting Attrition (Target Feature) is a supervised binary classification task ( Either the employee stays or leaves the Company i.e. 1,0). \n",
    "There are different type of Supervised Machine Learning Algorithms to classify the features and a predict the future with best accuracy.\n",
    "1.Decision Tree Classification\n",
    "2.Random Forest\n",
    "3.Logistic Regression\n",
    "4.SVM Algorithm\n",
    "We will compare accuracy scores for estimated predictions by the above mentioned classification models and predict the Attrition with best accuracy.\n",
    "we need to train the Model and test the trained model to predict the future followed by Model Evaluation.\n"
   ]
  },
  {
   "cell_type": "markdown",
   "id": "fde36346",
   "metadata": {},
   "source": [
    "# Decision Tree Classification (Building the Model)"
   ]
  },
  {
   "cell_type": "code",
   "execution_count": null,
   "id": "f376ba65",
   "metadata": {},
   "outputs": [],
   "source": [
    "from sklearn.tree import DecisionTreeClassifier\n"
   ]
  },
  {
   "cell_type": "code",
   "execution_count": null,
   "id": "76f34ce5",
   "metadata": {},
   "outputs": [],
   "source": [
    "# # from sklearn.model_selection import GridSearchCV\n",
    "# # # Define the Decision Tree Classifier\n",
    "# dt = DecisionTreeClassifier(random_state=42)\n",
    "\n",
    "# # # Define the parameter grid for hyperparameter tuning\n",
    "# param_grid = {\n",
    "#      'criterion': ['gini', 'entropy'],\n",
    "#      'max_depth':[2,4,3,5,6,7,9,11],\n",
    "#      'min_samples_split': [2,4,6,8,10],\n",
    "#      'min_samples_leaf':[1,2,3,4,5]\n",
    "#      }\n",
    "\n",
    "# # # Perform grid search with cross-validation using the defined parameter grid\n",
    "# grid_search = GridSearchCV(dt, param_grid=param_grid, cv=10, n_jobs=2)\n",
    "\n",
    "# # # Fit the grid search to the training data\n",
    "# grid_search.fit(X_train, y_train)\n",
    "\n",
    "# # # Print the best hyperparameters and corresponding accuracy score\n",
    "# print(\"Best hyperparameters: \", grid_search.best_params_)\n",
    "# print(\"Accuracy score: \", grid_search.best_score_)\n",
    "\n"
   ]
  },
  {
   "cell_type": "code",
   "execution_count": null,
   "id": "27f94a39",
   "metadata": {},
   "outputs": [],
   "source": [
    "for max_d in range(1,21):\n",
    "    model = DecisionTreeClassifier(max_depth=max_d,random_state=42)\n",
    "    model.fit(X_train, y_train)\n",
    "    print('The Training Accuracy for max_depth {} is:'.format(max_d), model.score(X_train, y_train))\n",
    "    print('The Validation Accuracy for max_depth {} is:'.format(max_d), model.score(X_test, y_test))\n",
    "    print('')"
   ]
  },
  {
   "cell_type": "code",
   "execution_count": null,
   "id": "c2b574b0",
   "metadata": {},
   "outputs": [],
   "source": [
    "for max_d in range(1,21):\n",
    "    model = DecisionTreeClassifier(max_depth=max_d, min_samples_split=2, min_samples_leaf = 2, criterion = \"gini\",random_state=42)\n",
    "    model.fit(X_train, y_train)\n",
    "    print('The Training Accuracy for max_depth {} is:'.format(max_d), model.score(X_train, y_train))\n",
    "    print('The Validation Accuracy for max_depth {} is:'.format(max_d), model.score(X_test, y_test))\n",
    "    print('')"
   ]
  },
  {
   "cell_type": "code",
   "execution_count": null,
   "id": "8d504958",
   "metadata": {},
   "outputs": [],
   "source": [
    "# Decision tree with depth = 2\n",
    "model_dt_2 = DecisionTreeClassifier(random_state=1, max_depth=2, min_samples_split =5, min_samples_leaf = 3, criterion = \"gini\" )\n",
    "model_dt_2.fit(X_train, y_train)\n",
    "model_dt_2_score_train = model_dt_2.score(X_train, y_train)\n",
    "print(\"Training score: \",model_dt_2_score_train)\n",
    "model_dt_2_score_test = model_dt_2.score(X_test, y_test)\n",
    "print(\"Testing score: \",model_dt_2_score_test)\n",
    "y_pred_dt = model_dt_2.predict_proba(X_test)[:, 1]"
   ]
  },
  {
   "cell_type": "code",
   "execution_count": null,
   "id": "27046391",
   "metadata": {},
   "outputs": [],
   "source": [
    "# Decision tree with depth = 4\n",
    "model_dt_4 = DecisionTreeClassifier(random_state=1, max_depth=4, min_samples_split =2, min_samples_leaf = 2, criterion = \"gini\")\n",
    "model_dt_4.fit(X_train, y_train)\n",
    "model_dt_4_score_train = model_dt_4.score(X_train, y_train)\n",
    "print(\"Training score: \",model_dt_4_score_train)\n",
    "model_dt_4_score_test = model_dt_4.score(X_test, y_test)\n",
    "print(\"Testing score: \",model_dt_4_score_test)\n"
   ]
  },
  {
   "cell_type": "code",
   "execution_count": null,
   "id": "cb92f596",
   "metadata": {},
   "outputs": [],
   "source": [
    "# Decision tree with depth = 5\n",
    "model_dt_5 = DecisionTreeClassifier(random_state=1, max_depth=5, min_samples_split =3, min_samples_leaf = 2, criterion = \"gini\")\n",
    "model_dt_5.fit(X_train, y_train)\n",
    "model_dt_5_score_train = model_dt_5.score(X_train, y_train)\n",
    "print(\"Training score: \",model_dt_5_score_train)\n",
    "model_dt_5_score_test = model_dt_5.score(X_test, y_test)\n",
    "print(\"Testing score: \",model_dt_5_score_test)"
   ]
  },
  {
   "cell_type": "code",
   "execution_count": null,
   "id": "ac9be9ec",
   "metadata": {},
   "outputs": [],
   "source": [
    "# # Decision tree with depth = 6\n",
    "model_dt_6 = DecisionTreeClassifier(random_state=1, max_depth=6, min_samples_split =4, min_samples_leaf =2, criterion = \"gini\")\n",
    "model_dt_6.fit(X_train, y_train)\n",
    "model_dt_6_score_train = model_dt_6.score(X_train, y_train)\n",
    "print(\"Training score: \",model_dt_6_score_train)\n",
    "model_dt_6_score_test = model_dt_6.score(X_test, y_test)\n",
    "print(\"Testing score: \",model_dt_6_score_test)"
   ]
  },
  {
   "cell_type": "code",
   "execution_count": null,
   "id": "20f45560",
   "metadata": {},
   "outputs": [],
   "source": [
    "# Decision tree with depth = 7\n",
    "model_dt7= DecisionTreeClassifier(random_state=42, max_depth=7, min_samples_split =5, min_samples_leaf =2, criterion = \"gini\")\n",
    "model_dt7.fit(X_train, y_train)\n",
    "model_dt_7_score_train = model_dt7.score(X_train, y_train)\n",
    "print(\"Training score: \",model_dt_7_score_train)\n",
    "model_dt_7_score_test = model_dt7.score(X_test, y_test)\n",
    "print(\"Testing score: \",model_dt_7_score_test)"
   ]
  },
  {
   "cell_type": "code",
   "execution_count": null,
   "id": "badd35fc",
   "metadata": {},
   "outputs": [],
   "source": [
    "# # Decision tree with depth = 8\n",
    "model_dt_8 = DecisionTreeClassifier(random_state=42, max_depth=8, min_samples_split =6, min_samples_leaf = 3, criterion = \"gini\")\n",
    "model_dt_8.fit(X_train, y_train)\n",
    "model_dt_8_score_train = model_dt_8.score(X_train, y_train)\n",
    "print(\"Training score: \",model_dt_8_score_train)\n",
    "model_dt_8_score_test = model_dt_8.score(X_test, y_test)\n",
    "print(\"Testing score: \",model_dt_8_score_test)"
   ]
  },
  {
   "cell_type": "code",
   "execution_count": null,
   "id": "94e4cb23",
   "metadata": {},
   "outputs": [],
   "source": [
    "# # # Decision tree with depth = 10\n",
    "model_dt_10 = DecisionTreeClassifier(random_state=42, max_depth=10, min_samples_split =7, min_samples_leaf = 2, criterion = \"gini\")\n",
    "model_dt_10.fit(X_train, y_train)\n",
    "model_dt_10_score_train = model_dt_10.score(X_train, y_train)\n",
    "print(\"Training score: \",model_dt_10_score_train)\n",
    "model_dt_10_score_test = model_dt_10.score(X_test, y_test)\n",
    "print(\"Testing score: \",model_dt_10_score_test)"
   ]
  },
  {
   "cell_type": "code",
   "execution_count": null,
   "id": "90a49a42",
   "metadata": {},
   "outputs": [],
   "source": [
    "#Decision tree\n",
    "\n",
    "model_dt = DecisionTreeClassifier(max_depth=4,min_samples_split =2, min_samples_leaf = 1,criterion =\"entropy\", random_state=42)\n",
    "model_dt.fit(X_train, y_train)\n"
   ]
  },
  {
   "cell_type": "code",
   "execution_count": null,
   "id": "9b7dea42",
   "metadata": {},
   "outputs": [],
   "source": [
    "y_pred_dt = model_dt.predict_proba(X_test)[:, 1]"
   ]
  },
  {
   "cell_type": "code",
   "execution_count": null,
   "id": "5257edf8",
   "metadata": {},
   "outputs": [],
   "source": [
    "fpr_dt, tpr_dt, _ = roc_curve(y_test, y_pred_dt)\n",
    "roc_auc_dt = auc(fpr_dt, tpr_dt)"
   ]
  },
  {
   "cell_type": "code",
   "execution_count": null,
   "id": "508d4de0",
   "metadata": {},
   "outputs": [],
   "source": [
    "predictions_dt = model_dt.predict(X_test)\n",
    "predictions_dt"
   ]
  },
  {
   "cell_type": "code",
   "execution_count": null,
   "id": "5667c9f5",
   "metadata": {},
   "outputs": [],
   "source": [
    "\n",
    "y_test = y_test.to_numpy() # Convert y_test to numpy array\n",
    "y_actual_result = np.empty((0, 1))\n",
    "for i in range(len(predictions_dt)):\n",
    "    if i < len(y_test) and predictions_dt[i] == 1:\n",
    "        y_actual_result = np.vstack((y_actual_result, y_test[i].reshape(-1, 1)))\n"
   ]
  },
  {
   "cell_type": "code",
   "execution_count": null,
   "id": "d99b851d",
   "metadata": {},
   "outputs": [],
   "source": [
    "#Recall\n",
    "y_actual_result = y_actual_result.flatten()\n",
    "count = 0\n",
    "for result in y_actual_result:\n",
    "     if(result == 1):\n",
    "        count=count+1\n",
    "\n",
    "print (\"true yes|predicted yes:\")\n",
    "print (count/float(len(y_actual_result)))"
   ]
  },
  {
   "cell_type": "code",
   "execution_count": null,
   "id": "52347ffb",
   "metadata": {},
   "outputs": [],
   "source": [
    "plt.figure(1)\n",
    "lw = 2\n",
    "plt.plot(fpr_dt, tpr_dt, color='green',\n",
    "         lw=lw, label='Decision Tree(AUC = %0.2f)' % roc_auc_dt)\n",
    "plt.plot([0, 1], [0, 1], color='navy', lw=lw, linestyle='--')\n",
    "\n",
    "plt.xlim([0.0, 1.0])\n",
    "plt.ylim([0.0, 1.05])\n",
    "plt.xlabel('False Positive Rate')\n",
    "plt.ylabel('True Positive Rate')\n",
    "plt.title('Area Under Curve')\n",
    "plt.legend(loc=\"lower right\")\n",
    "plt.show()"
   ]
  },
  {
   "cell_type": "code",
   "execution_count": null,
   "id": "68fd59a8",
   "metadata": {},
   "outputs": [],
   "source": [
    "print (confusion_matrix(y_test, predictions_dt))"
   ]
  },
  {
   "cell_type": "code",
   "execution_count": null,
   "id": "95254a87",
   "metadata": {},
   "outputs": [],
   "source": [
    "accuracy_score(y_test, predictions_dt)"
   ]
  },
  {
   "cell_type": "code",
   "execution_count": null,
   "id": "37d3a743",
   "metadata": {},
   "outputs": [],
   "source": [
    "from sklearn.metrics import roc_curve, roc_auc_score, accuracy_score\n",
    "# calculate ROC AUC and accuracy scores on test set\n",
    "y_pred_proba =model_dt.predict_proba(X_test)[:, 1]\n",
    "fpr, tpr, thresholds = roc_curve(y_test, y_pred_proba)\n",
    "roc_auc = roc_auc_score(y_test, y_pred_proba)\n",
    "accuracy = accuracy_score(y_test, model_dt.predict(X_test))"
   ]
  },
  {
   "cell_type": "code",
   "execution_count": null,
   "id": "e176098f",
   "metadata": {},
   "outputs": [],
   "source": [
    "\n",
    "# plot ROC curve and accuracy\n",
    "fig, ax1 = plt.subplots(figsize=(8, 6))\n",
    "color = 'tab:red'\n",
    "ax1.set_xlabel('Threshold')\n",
    "ax1.set_ylabel('True Positive Rate', color=color)\n",
    "ax1.plot(thresholds, tpr, color=color)\n",
    "ax1.tick_params(axis='y', labelcolor=color)\n",
    "ax1.set_ylim([0, 1])\n",
    "ax2 = ax1.twinx()  # create a second y-axis that shares the same x-axis\n",
    "color = 'tab:blue'\n",
    "ax2.set_ylabel('Accuracy', color=color)\n",
    "ax2.plot(thresholds, [accuracy_score(y_test, y_pred_proba > t) for t in thresholds], color=color)\n",
    "ax2.tick_params(axis='y', labelcolor=color)\n",
    "ax2.set_ylim([0, 1])\n",
    "plt.title(f'ROC AUC = {roc_auc:.3f}')\n",
    "plt.show()\n"
   ]
  },
  {
   "cell_type": "code",
   "execution_count": null,
   "id": "29cd5f60",
   "metadata": {},
   "outputs": [],
   "source": [
    "import itertools\n",
    "from sklearn.metrics import confusion_matrix\n",
    "def plot_confusion_matrix(model, normalize=False): # This function prints and plots the confusion matrix.\n",
    "    cm = confusion_matrix(y_test, model, labels=[0, 1])\n",
    "    classes=[\"Success\", \"Default\"]\n",
    "    cmap = plt.cm.Blues\n",
    "    title = \"Confusion Matrix\"\n",
    "    if normalize:\n",
    "        cm = cm.astype('float') / cm.sum(axis=1)[:, np.newaxis]\n",
    "        cm = np.around(cm, decimals=3)\n",
    "    plt.imshow(cm, interpolation='nearest', cmap=cmap)\n",
    "    plt.title(title)\n",
    "    plt.colorbar()\n",
    "    tick_marks = np.arange(len(classes))\n",
    "    plt.xticks(tick_marks, classes, rotation=45)\n",
    "    plt.yticks(tick_marks, classes)\n",
    "    thresh = cm.max() / 2.\n",
    "    for i, j in itertools.product(range(cm.shape[0]), range(cm.shape[1])):\n",
    "        plt.text(j, i, cm[i, j],\n",
    "                 horizontalalignment=\"center\",\n",
    "                 color=\"white\" if cm[i, j] > thresh else \"black\")\n",
    "    plt.tight_layout()\n",
    "    plt.ylabel('True label')\n",
    "    plt.xlabel('Predicted label')"
   ]
  },
  {
   "cell_type": "code",
   "execution_count": null,
   "id": "b7353241",
   "metadata": {},
   "outputs": [],
   "source": [
    "plt.figure(figsize=(6,6))\n",
    "plot_confusion_matrix(predictions_dt, normalize=False)\n",
    "plt.show()"
   ]
  },
  {
   "cell_type": "code",
   "execution_count": null,
   "id": "4b84d9a5",
   "metadata": {},
   "outputs": [],
   "source": [
    "print(classification_report(y_test,predictions_dt))"
   ]
  },
  {
   "cell_type": "markdown",
   "id": "7bae0f49",
   "metadata": {},
   "source": [
    "The report consists of 4 sections: precision, recall, f1-score, and support. Each section corresponds to a class in the target variable, and the results for each class are reported separately.\n",
    "\n",
    "Precision: Precision is the ratio of true positive observations to the total predicted positive observations. It represents the ability of the model to correctly identify positive observations.\n",
    "Recall: Recall is the ratio of true positive observations to the total actual positive observations. It represents the ability of the model to correctly identify all positive observations.\n",
    "F1-score: F1-score is the harmonic mean of precision and recall, which is a better measure than accuracy when dealing with imbalanced classes.\n",
    "Support: Support is the number of occurrences of each class in the actual target values.\n",
    "Interpreting the results of classification_report requires a domain-specific understanding of the problem and the classes being predicted. In general, a high precision and recall indicate that the model is performing well, while a low precision and recall indicate that the model may need further improvement.\n",
    "\n"
   ]
  },
  {
   "cell_type": "code",
   "execution_count": null,
   "id": "a470a825",
   "metadata": {},
   "outputs": [],
   "source": [
    "# model.feature_importances_"
   ]
  },
  {
   "cell_type": "code",
   "execution_count": null,
   "id": "8d7d266a",
   "metadata": {},
   "outputs": [],
   "source": [
    "# pd.DataFrame(index=X.columns,data=model.feature_importances_,columns=['Feature Importance'])"
   ]
  },
  {
   "cell_type": "code",
   "execution_count": null,
   "id": "93b264c9",
   "metadata": {},
   "outputs": [],
   "source": [
    "from sklearn.tree import plot_tree"
   ]
  },
  {
   "cell_type": "code",
   "execution_count": null,
   "id": "c39de631",
   "metadata": {},
   "outputs": [],
   "source": [
    "from sklearn.tree import DecisionTreeClassifier, plot_tree\n",
    "\n",
    "# Instantiate the classifier with some hyperparameters\n",
    "dt = DecisionTreeClassifier(max_depth=4, min_samples_split =2, min_samples_leaf = 1,criterion =\"entropy\", random_state=42)\n",
    "\n",
    "# Fit the model on your training data\n",
    "dt.fit(X_train, y_train)\n",
    "\n",
    "# Visualize the decision tree\n",
    "plt.figure(figsize=(12,8))\n",
    "plot_tree(dt);"
   ]
  },
  {
   "cell_type": "code",
   "execution_count": null,
   "id": "d58f9769",
   "metadata": {},
   "outputs": [],
   "source": [
    "def report_model(dt):\n",
    "    model_preds = dt.predict(X_test)\n",
    "    print(classification_report(y_test,model_preds))\n",
    "    print('\\n')\n",
    "    plt.figure(figsize=(12,8),dpi=150)\n",
    "    plot_tree(dt,filled=True,feature_names=X);"
   ]
  },
  {
   "cell_type": "code",
   "execution_count": null,
   "id": "e6eb6e77",
   "metadata": {},
   "outputs": [],
   "source": [
    "pruned_tree = DecisionTreeClassifier(max_depth=4, min_samples_split =2, min_samples_leaf = 2,criterion =\"entropy\", random_state=42)\n",
    "pruned_tree.fit(X_train,y_train)"
   ]
  },
  {
   "cell_type": "code",
   "execution_count": null,
   "id": "24d48f5f",
   "metadata": {},
   "outputs": [],
   "source": [
    "report_model(pruned_tree)"
   ]
  },
  {
   "cell_type": "code",
   "execution_count": null,
   "id": "2552980f",
   "metadata": {},
   "outputs": [],
   "source": []
  },
  {
   "cell_type": "code",
   "execution_count": null,
   "id": "99113fcf",
   "metadata": {},
   "outputs": [],
   "source": []
  },
  {
   "cell_type": "code",
   "execution_count": null,
   "id": "758940e4",
   "metadata": {},
   "outputs": [],
   "source": []
  },
  {
   "cell_type": "code",
   "execution_count": null,
   "id": "37253ba7",
   "metadata": {},
   "outputs": [],
   "source": []
  },
  {
   "cell_type": "code",
   "execution_count": null,
   "id": "4b6e13ff",
   "metadata": {},
   "outputs": [],
   "source": []
  }
 ],
 "metadata": {
  "kernelspec": {
   "display_name": "Python 3 (ipykernel)",
   "language": "python",
   "name": "python3"
  },
  "language_info": {
   "codemirror_mode": {
    "name": "ipython",
    "version": 3
   },
   "file_extension": ".py",
   "mimetype": "text/x-python",
   "name": "python",
   "nbconvert_exporter": "python",
   "pygments_lexer": "ipython3",
   "version": "3.9.13"
  }
 },
 "nbformat": 4,
 "nbformat_minor": 5
}
